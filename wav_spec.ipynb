{
 "cells": [
  {
   "cell_type": "code",
   "execution_count": 5,
   "metadata": {},
   "outputs": [],
   "source": [
    "import pandas as pd\n",
    "from scipy.fftpack import fft\n",
    "\n"
   ]
  },
  {
   "cell_type": "code",
   "execution_count": 6,
   "metadata": {},
   "outputs": [
    {
     "ename": "FileNotFoundError",
     "evalue": "[Errno 2] No such file or directory: 'output.wav'",
     "output_type": "error",
     "traceback": [
      "\u001b[1;31m---------------------------------------------------------------------------\u001b[0m",
      "\u001b[1;31mFileNotFoundError\u001b[0m                         Traceback (most recent call last)",
      "Cell \u001b[1;32mIn[6], line 8\u001b[0m\n\u001b[0;32m      5\u001b[0m \u001b[38;5;28;01mimport\u001b[39;00m \u001b[38;5;21;01mnumpy\u001b[39;00m \u001b[38;5;28;01mas\u001b[39;00m \u001b[38;5;21;01mnp\u001b[39;00m\n\u001b[0;32m      6\u001b[0m \u001b[38;5;28;01mfrom\u001b[39;00m \u001b[38;5;21;01mmatplotlib\u001b[39;00m \u001b[38;5;28;01mimport\u001b[39;00m pyplot \u001b[38;5;28;01mas\u001b[39;00m plt\n\u001b[1;32m----> 8\u001b[0m fs_rate, signal \u001b[38;5;241m=\u001b[39m \u001b[43mwavfile\u001b[49m\u001b[38;5;241;43m.\u001b[39;49m\u001b[43mread\u001b[49m\u001b[43m(\u001b[49m\u001b[38;5;124;43m\"\u001b[39;49m\u001b[38;5;124;43moutput.wav\u001b[39;49m\u001b[38;5;124;43m\"\u001b[39;49m\u001b[43m)\u001b[49m\n\u001b[0;32m      9\u001b[0m \u001b[38;5;28mprint\u001b[39m (\u001b[38;5;124m\"\u001b[39m\u001b[38;5;124mFrequency sampling\u001b[39m\u001b[38;5;124m\"\u001b[39m, fs_rate)\n\u001b[0;32m     10\u001b[0m l_audio \u001b[38;5;241m=\u001b[39m \u001b[38;5;28mlen\u001b[39m(signal\u001b[38;5;241m.\u001b[39mshape)\n",
      "File \u001b[1;32mc:\\Users\\Murzabaev\\AppData\\Local\\Programs\\Python\\Python311\\Lib\\site-packages\\scipy\\io\\wavfile.py:647\u001b[0m, in \u001b[0;36mread\u001b[1;34m(filename, mmap)\u001b[0m\n\u001b[0;32m    645\u001b[0m     mmap \u001b[38;5;241m=\u001b[39m \u001b[38;5;28;01mFalse\u001b[39;00m\n\u001b[0;32m    646\u001b[0m \u001b[38;5;28;01melse\u001b[39;00m:\n\u001b[1;32m--> 647\u001b[0m     fid \u001b[38;5;241m=\u001b[39m \u001b[38;5;28;43mopen\u001b[39;49m\u001b[43m(\u001b[49m\u001b[43mfilename\u001b[49m\u001b[43m,\u001b[49m\u001b[43m \u001b[49m\u001b[38;5;124;43m'\u001b[39;49m\u001b[38;5;124;43mrb\u001b[39;49m\u001b[38;5;124;43m'\u001b[39;49m\u001b[43m)\u001b[49m\n\u001b[0;32m    649\u001b[0m \u001b[38;5;28;01mtry\u001b[39;00m:\n\u001b[0;32m    650\u001b[0m     file_size, is_big_endian \u001b[38;5;241m=\u001b[39m _read_riff_chunk(fid)\n",
      "\u001b[1;31mFileNotFoundError\u001b[0m: [Errno 2] No such file or directory: 'output.wav'"
     ]
    }
   ],
   "source": [
    "from __future__ import print_function\n",
    "import scipy.io.wavfile as wavfile\n",
    "import scipy\n",
    "import scipy.fftpack\n",
    "import numpy as np\n",
    "from matplotlib import pyplot as plt\n",
    "\n",
    "fs_rate, signal = wavfile.read(\"output.wav\")\n",
    "print (\"Frequency sampling\", fs_rate)\n",
    "l_audio = len(signal.shape)\n",
    "print (\"Channels\", l_audio)\n",
    "if l_audio == 2:\n",
    "    signal = signal.sum(axis=1) / 2\n",
    "N = signal.shape[0]\n",
    "print (\"Complete Samplings N\", N)\n",
    "secs = N / float(fs_rate)\n",
    "print (\"secs\", secs)\n",
    "Ts = 1.0/fs_rate # sampling interval in time\n",
    "print (\"Timestep between samples Ts\", Ts)\n",
    "t = scipy.arange(0, secs, Ts) # time vector as scipy arange field / numpy.ndarray\n",
    "FFT = abs(scipy.fft(signal))\n",
    "FFT_side = FFT[range(N/2)] # one side FFT range\n",
    "freqs = scipy.fftpack.fftfreq(signal.size, t[1]-t[0])\n",
    "fft_freqs = np.array(freqs)\n",
    "freqs_side = freqs[range(N/2)] # one side frequency range\n",
    "fft_freqs_side = np.array(freqs_side)\n",
    "plt.subplot(311)\n",
    "p1 = plt.plot(t, signal, \"g\") # plotting the signal\n",
    "plt.xlabel('Time')\n",
    "plt.ylabel('Amplitude')\n",
    "plt.subplot(312)\n",
    "p2 = plt.plot(freqs, FFT, \"r\") # plotting the complete fft spectrum\n",
    "plt.xlabel('Frequency (Hz)')\n",
    "plt.ylabel('Count dbl-sided')\n",
    "plt.subplot(313)\n",
    "p3 = plt.plot(freqs_side, abs(FFT_side), \"b\") # plotting the positive fft spectrum\n",
    "plt.xlabel('Frequency (Hz)')\n",
    "plt.ylabel('Count single-sided')\n",
    "plt.show()"
   ]
  }
 ],
 "metadata": {
  "kernelspec": {
   "display_name": ".venv",
   "language": "python",
   "name": "python3"
  },
  "language_info": {
   "codemirror_mode": {
    "name": "ipython",
    "version": 3
   },
   "file_extension": ".py",
   "mimetype": "text/x-python",
   "name": "python",
   "nbconvert_exporter": "python",
   "pygments_lexer": "ipython3",
   "version": "3.11.5"
  }
 },
 "nbformat": 4,
 "nbformat_minor": 2
}
